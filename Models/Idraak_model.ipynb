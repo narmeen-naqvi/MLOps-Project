{
  "nbformat": 4,
  "nbformat_minor": 0,
  "metadata": {
    "colab": {
      "provenance": []
    },
    "kernelspec": {
      "name": "python3",
      "display_name": "Python 3"
    },
    "language_info": {
      "name": "python"
    }
  },
  "cells": [
    {
      "cell_type": "markdown",
      "source": [
        "**Connecting to Google Drive to Access and Manipulate Dataset**\n",
        "\n",
        "\n",
        "\n"
      ],
      "metadata": {
        "id": "J9Api5BzJANh"
      }
    },
    {
      "cell_type": "code",
      "execution_count": 77,
      "metadata": {
        "id": "VHpbGkWWwB8Z",
        "colab": {
          "base_uri": "https://localhost:8080/"
        },
        "outputId": "f6655684-fbed-415c-a0f9-30fa7f4eee54"
      },
      "outputs": [
        {
          "output_type": "stream",
          "name": "stdout",
          "text": [
            "Drive already mounted at /content/gdrive; to attempt to forcibly remount, call drive.mount(\"/content/gdrive\", force_remount=True).\n",
            "/content/gdrive/MyDrive/Idraak\n"
          ]
        }
      ],
      "source": [
        "from google.colab import drive\n",
        "drive.mount('/content/gdrive')\n",
        "%cd /content/gdrive/MyDrive/Idraak\n"
      ]
    },
    {
      "cell_type": "code",
      "source": [
        "%ls\n"
      ],
      "metadata": {
        "colab": {
          "base_uri": "https://localhost:8080/"
        },
        "id": "ZqJYpdfqxKsQ",
        "outputId": "c9ea1f2c-ee8f-416e-819f-3779c8b1e922"
      },
      "execution_count": 78,
      "outputs": [
        {
          "output_type": "stream",
          "name": "stdout",
          "text": [
            "\u001b[0m\u001b[01;34mdataSet\u001b[0m/  \u001b[01;34mdataSetssss\u001b[0m/\n"
          ]
        }
      ]
    },
    {
      "cell_type": "markdown",
      "source": [
        "**Importing the Required Libraries**"
      ],
      "metadata": {
        "id": "AVVZM8YkJc_X"
      }
    },
    {
      "cell_type": "code",
      "source": [
        "import tensorflow as tf\n",
        "from keras.preprocessing.image import ImageDataGenerator\n",
        "import os\n",
        "os.environ[\"CUDA_VISIBLE_DEVICES\"] = \"1\""
      ],
      "metadata": {
        "id": "nWFQ-HW7w_xV"
      },
      "execution_count": 79,
      "outputs": []
    },
    {
      "cell_type": "code",
      "source": [
        "tf.__version__ "
      ],
      "metadata": {
        "colab": {
          "base_uri": "https://localhost:8080/",
          "height": 36
        },
        "id": "BcT-Gs5NxS3a",
        "outputId": "435968fa-eba1-4c63-e51c-2a9d842f53c6"
      },
      "execution_count": 80,
      "outputs": [
        {
          "output_type": "execute_result",
          "data": {
            "text/plain": [
              "'2.12.0'"
            ],
            "application/vnd.google.colaboratory.intrinsic+json": {
              "type": "string"
            }
          },
          "metadata": {},
          "execution_count": 80
        }
      ]
    },
    {
      "cell_type": "markdown",
      "source": [
        "**1. Data Preprocessing**"
      ],
      "metadata": {
        "id": "GO7Y52aGPsxL"
      }
    },
    {
      "cell_type": "markdown",
      "source": [
        "**Generation of Images for the Training Set**"
      ],
      "metadata": {
        "id": "RBsMHvkfP96C"
      }
    },
    {
      "cell_type": "code",
      "source": [
        "train_datagen = ImageDataGenerator(rescale = 1./255,\n",
        "                                   shear_range = 0.2,\n",
        "                                   zoom_range = 0.2,\n",
        "                                   horizontal_flip = True)"
      ],
      "metadata": {
        "id": "gOM9BQ_sxUHr"
      },
      "execution_count": 81,
      "outputs": []
    },
    {
      "cell_type": "markdown",
      "source": [
        "**Generation of Images for the Testing Set**"
      ],
      "metadata": {
        "id": "Q6sif_JfQGVQ"
      }
    },
    {
      "cell_type": "code",
      "source": [
        "test_datagen = ImageDataGenerator(rescale = 1./255)"
      ],
      "metadata": {
        "id": "fFhR4oWixh9R"
      },
      "execution_count": 82,
      "outputs": []
    },
    {
      "cell_type": "markdown",
      "source": [
        "**Creation of Training Set**"
      ],
      "metadata": {
        "id": "v7jzFWv3Qaq3"
      }
    },
    {
      "cell_type": "code",
      "source": [
        "training_set = train_datagen.flow_from_directory('dataSet/trainingData',                                \n",
        "                                                 target_size = (128, 128),\n",
        "                                                 batch_size = 40,\n",
        "                                                 color_mode = 'grayscale',                                \n",
        "                                                 class_mode = 'categorical')"
      ],
      "metadata": {
        "id": "QXGE2VoAxlUG",
        "colab": {
          "base_uri": "https://localhost:8080/"
        },
        "outputId": "822ffa11-14e8-4a17-a913-72e6d648fb49"
      },
      "execution_count": 105,
      "outputs": [
        {
          "output_type": "stream",
          "name": "stdout",
          "text": [
            "Found 18930 images belonging to 39 classes.\n"
          ]
        }
      ]
    },
    {
      "cell_type": "markdown",
      "source": [
        "**Creation of Test Set**"
      ],
      "metadata": {
        "id": "Aru7n7ZeQ7yO"
      }
    },
    {
      "cell_type": "code",
      "source": [
        "test_set = test_datagen.flow_from_directory('dataSet/testingData',\n",
        "                                            target_size = (128, 128),                                  \n",
        "                                            batch_size = 40,        \n",
        "                                            color_mode = 'grayscale',\n",
        "                                            class_mode = 'categorical')"
      ],
      "metadata": {
        "id": "9pAJvZ0oxxKg",
        "colab": {
          "base_uri": "https://localhost:8080/"
        },
        "outputId": "e32a67b9-0eb7-4f01-dd51-6a5a2bb65752"
      },
      "execution_count": 106,
      "outputs": [
        {
          "output_type": "stream",
          "name": "stdout",
          "text": [
            "Found 8129 images belonging to 39 classes.\n"
          ]
        }
      ]
    },
    {
      "cell_type": "markdown",
      "source": [
        "**2. Building the Convolutional Neural Network**"
      ],
      "metadata": {
        "id": "77thXmGMRHO4"
      }
    },
    {
      "cell_type": "markdown",
      "source": [
        "**Initialization of CNN**"
      ],
      "metadata": {
        "id": "mGKOXnK0RPKW"
      }
    },
    {
      "cell_type": "code",
      "source": [
        "classifier = tf.keras.models.Sequential()"
      ],
      "metadata": {
        "id": "NAIyqfcFyFdg"
      },
      "execution_count": 107,
      "outputs": []
    },
    {
      "cell_type": "markdown",
      "source": [
        "**2.1. Convolution**"
      ],
      "metadata": {
        "id": "jDsye95SRcpF"
      }
    },
    {
      "cell_type": "code",
      "source": [
        "classifier.add(tf.keras.layers.Conv2D(filters=22,\n",
        "                                     kernel_size=5, \n",
        "                                     padding=\"same\", \n",
        "                                     activation=\"relu\", \n",
        "                                     input_shape=[128, 128, 1]))"
      ],
      "metadata": {
        "id": "7Cu1Muo605VH"
      },
      "execution_count": 108,
      "outputs": []
    },
    {
      "cell_type": "markdown",
      "source": [
        "**2.2. Pooling**"
      ],
      "metadata": {
        "id": "2Y0JLofIRksk"
      }
    },
    {
      "cell_type": "code",
      "source": [
        "classifier.add(tf.keras.layers.MaxPool2D(pool_size=2, \n",
        "                                         strides=2, \n",
        "                                         padding='valid'))"
      ],
      "metadata": {
        "id": "RQIfK89z08jK"
      },
      "execution_count": 109,
      "outputs": []
    },
    {
      "cell_type": "markdown",
      "source": [
        "**--Adding of a Second Layer**"
      ],
      "metadata": {
        "id": "Nw14yt2IRqZk"
      }
    },
    {
      "cell_type": "code",
      "source": [
        "classifier.add(tf.keras.layers.Conv2D(filters=22, \n",
        "                                      kernel_size=5, \n",
        "                                      padding=\"same\", \n",
        "                                      activation=\"relu\"))\n",
        "\n",
        "classifier.add(tf.keras.layers.MaxPool2D(pool_size=2, \n",
        "                                         strides=2, \n",
        "                                         padding='valid'))"
      ],
      "metadata": {
        "id": "sQ5y7p2K0_Xo"
      },
      "execution_count": 110,
      "outputs": []
    },
    {
      "cell_type": "code",
      "source": [
        "# classifier.add(tf.keras.layers.Conv2D(filters=32, \n",
        "#                                       kernel_size=4, \n",
        "#                                       padding=\"same\", \n",
        "#                                       activation=\"relu\"))\n",
        "\n",
        "# classifier.add(tf.keras.layers.MaxPool2D(pool_size=2, \n",
        "#                                          strides=2, \n",
        "#                                          padding='valid'))"
      ],
      "metadata": {
        "id": "b42weRmQnb_6"
      },
      "execution_count": 99,
      "outputs": []
    },
    {
      "cell_type": "markdown",
      "source": [
        "**2.3. Flattening**"
      ],
      "metadata": {
        "id": "H_OU-nd-RwLs"
      }
    },
    {
      "cell_type": "code",
      "source": [
        "classifier.add(tf.keras.layers.Flatten())"
      ],
      "metadata": {
        "id": "jnIrPLJK1AJd"
      },
      "execution_count": 111,
      "outputs": []
    },
    {
      "cell_type": "markdown",
      "source": [
        "**2.4. Making Full Connection**"
      ],
      "metadata": {
        "id": "cNhAGxwpR2tQ"
      }
    },
    {
      "cell_type": "code",
      "source": [
        "classifier.add(tf.keras.layers.Dense(units=128, \n",
        "                                     activation='relu'))\n",
        "classifier.add(tf.keras.layers.Dropout(0.40))\n",
        "classifier.add(tf.keras.layers.Dense(units=96, activation='relu'))\n",
        "classifier.add(tf.keras.layers.Dropout(0.40))\n",
        "classifier.add(tf.keras.layers.Dense(units=64, activation='relu'))\n",
        "classifier.add(tf.keras.layers.Dense(units=39, activation='softmax')) "
      ],
      "metadata": {
        "id": "teSyqIvd1FNZ"
      },
      "execution_count": 112,
      "outputs": []
    },
    {
      "cell_type": "markdown",
      "source": [
        "**3. Training**"
      ],
      "metadata": {
        "id": "vkEybP9zSM23"
      }
    },
    {
      "cell_type": "markdown",
      "source": [
        "**Compilation of the CNN**"
      ],
      "metadata": {
        "id": "be1v6kqcSUFP"
      }
    },
    {
      "cell_type": "code",
      "source": [
        "classifier.compile(optimizer = 'adam', \n",
        "                   loss = 'categorical_crossentropy', \n",
        "                   metrics = ['accuracy'])"
      ],
      "metadata": {
        "id": "Ipi1PD4K1HiK"
      },
      "execution_count": 113,
      "outputs": []
    },
    {
      "cell_type": "markdown",
      "source": [
        "**Training of the CNN on the Training set followed by Evaluation on the Test set**\n"
      ],
      "metadata": {
        "id": "sxOQqeV3Sdgh"
      }
    },
    {
      "cell_type": "code",
      "source": [
        "classifier.summary()"
      ],
      "metadata": {
        "id": "5ES85fHI1J0W",
        "colab": {
          "base_uri": "https://localhost:8080/"
        },
        "outputId": "7f259c2a-aea6-4938-97e8-99eb6edc1137"
      },
      "execution_count": 114,
      "outputs": [
        {
          "output_type": "stream",
          "name": "stdout",
          "text": [
            "Model: \"sequential_9\"\n",
            "_________________________________________________________________\n",
            " Layer (type)                Output Shape              Param #   \n",
            "=================================================================\n",
            " conv2d_21 (Conv2D)          (None, 128, 128, 22)      572       \n",
            "                                                                 \n",
            " max_pooling2d_17 (MaxPoolin  (None, 64, 64, 22)       0         \n",
            " g2D)                                                            \n",
            "                                                                 \n",
            " conv2d_22 (Conv2D)          (None, 64, 64, 22)        12122     \n",
            "                                                                 \n",
            " max_pooling2d_18 (MaxPoolin  (None, 32, 32, 22)       0         \n",
            " g2D)                                                            \n",
            "                                                                 \n",
            " flatten_8 (Flatten)         (None, 22528)             0         \n",
            "                                                                 \n",
            " dense_28 (Dense)            (None, 128)               2883712   \n",
            "                                                                 \n",
            " dropout_14 (Dropout)        (None, 128)               0         \n",
            "                                                                 \n",
            " dense_29 (Dense)            (None, 96)                12384     \n",
            "                                                                 \n",
            " dropout_15 (Dropout)        (None, 96)                0         \n",
            "                                                                 \n",
            " dense_30 (Dense)            (None, 64)                6208      \n",
            "                                                                 \n",
            " dense_31 (Dense)            (None, 39)                2535      \n",
            "                                                                 \n",
            "=================================================================\n",
            "Total params: 2,917,533\n",
            "Trainable params: 2,917,533\n",
            "Non-trainable params: 0\n",
            "_________________________________________________________________\n"
          ]
        }
      ]
    },
    {
      "cell_type": "code",
      "source": [
        "classifier.fit(training_set,\n",
        "                  epochs = 30,\n",
        "                  validation_data = test_set)"
      ],
      "metadata": {
        "id": "AkiSPuVr1Mtu",
        "colab": {
          "base_uri": "https://localhost:8080/"
        },
        "outputId": "36b255f3-dece-4a83-cc01-1eb5b78057c2"
      },
      "execution_count": 115,
      "outputs": [
        {
          "output_type": "stream",
          "name": "stdout",
          "text": [
            "Epoch 1/30\n",
            "474/474 [==============================] - 3732s 8s/step - loss: 3.2157 - accuracy: 0.1181 - val_loss: 2.0683 - val_accuracy: 0.3561\n",
            "Epoch 2/30\n",
            "474/474 [==============================] - 827s 2s/step - loss: 1.3660 - accuracy: 0.5569 - val_loss: 1.7614 - val_accuracy: 0.5458\n",
            "Epoch 3/30\n",
            "474/474 [==============================] - 871s 2s/step - loss: 0.8687 - accuracy: 0.7083 - val_loss: 1.5132 - val_accuracy: 0.6151\n",
            "Epoch 4/30\n",
            "474/474 [==============================] - 875s 2s/step - loss: 0.6375 - accuracy: 0.7887 - val_loss: 1.7265 - val_accuracy: 0.6000\n",
            "Epoch 5/30\n",
            "474/474 [==============================] - 875s 2s/step - loss: 0.5013 - accuracy: 0.8343 - val_loss: 1.6807 - val_accuracy: 0.6177\n",
            "Epoch 6/30\n",
            "474/474 [==============================] - 872s 2s/step - loss: 0.4120 - accuracy: 0.8669 - val_loss: 1.8199 - val_accuracy: 0.6287\n",
            "Epoch 7/30\n",
            "474/474 [==============================] - 875s 2s/step - loss: 0.3595 - accuracy: 0.8820 - val_loss: 2.0129 - val_accuracy: 0.6227\n",
            "Epoch 8/30\n",
            "474/474 [==============================] - 869s 2s/step - loss: 0.3397 - accuracy: 0.8909 - val_loss: 1.9998 - val_accuracy: 0.6202\n",
            "Epoch 9/30\n",
            "474/474 [==============================] - 873s 2s/step - loss: 0.2895 - accuracy: 0.9062 - val_loss: 1.7889 - val_accuracy: 0.6445\n",
            "Epoch 10/30\n",
            "474/474 [==============================] - 813s 2s/step - loss: 0.2739 - accuracy: 0.9120 - val_loss: 1.7592 - val_accuracy: 0.6465\n",
            "Epoch 11/30\n",
            "474/474 [==============================] - 862s 2s/step - loss: 0.2541 - accuracy: 0.9181 - val_loss: 2.1130 - val_accuracy: 0.6348\n",
            "Epoch 12/30\n",
            "474/474 [==============================] - 864s 2s/step - loss: 0.2375 - accuracy: 0.9239 - val_loss: 1.8875 - val_accuracy: 0.6637\n",
            "Epoch 13/30\n",
            "474/474 [==============================] - 862s 2s/step - loss: 0.2129 - accuracy: 0.9349 - val_loss: 2.0981 - val_accuracy: 0.6562\n",
            "Epoch 14/30\n",
            "474/474 [==============================] - 806s 2s/step - loss: 0.2106 - accuracy: 0.9356 - val_loss: 2.0548 - val_accuracy: 0.6583\n",
            "Epoch 15/30\n",
            "474/474 [==============================] - 864s 2s/step - loss: 0.1938 - accuracy: 0.9389 - val_loss: 2.0991 - val_accuracy: 0.6645\n",
            "Epoch 16/30\n",
            "474/474 [==============================] - 858s 2s/step - loss: 0.1803 - accuracy: 0.9426 - val_loss: 2.2092 - val_accuracy: 0.6455\n",
            "Epoch 17/30\n",
            "474/474 [==============================] - 858s 2s/step - loss: 0.1904 - accuracy: 0.9418 - val_loss: 2.4772 - val_accuracy: 0.6369\n",
            "Epoch 18/30\n",
            "474/474 [==============================] - 801s 2s/step - loss: 0.1712 - accuracy: 0.9477 - val_loss: 2.2819 - val_accuracy: 0.6654\n",
            "Epoch 19/30\n",
            "474/474 [==============================] - 795s 2s/step - loss: 0.1679 - accuracy: 0.9479 - val_loss: 2.4338 - val_accuracy: 0.6624\n",
            "Epoch 20/30\n",
            "474/474 [==============================] - 850s 2s/step - loss: 0.1421 - accuracy: 0.9563 - val_loss: 2.2243 - val_accuracy: 0.6647\n",
            "Epoch 21/30\n",
            "474/474 [==============================] - 851s 2s/step - loss: 0.1392 - accuracy: 0.9577 - val_loss: 2.2203 - val_accuracy: 0.6788\n",
            "Epoch 22/30\n",
            "474/474 [==============================] - 851s 2s/step - loss: 0.1451 - accuracy: 0.9551 - val_loss: 2.3331 - val_accuracy: 0.6647\n",
            "Epoch 23/30\n",
            "474/474 [==============================] - 793s 2s/step - loss: 0.1302 - accuracy: 0.9620 - val_loss: 2.2234 - val_accuracy: 0.6762\n",
            "Epoch 24/30\n",
            "474/474 [==============================] - 792s 2s/step - loss: 0.1354 - accuracy: 0.9595 - val_loss: 2.2813 - val_accuracy: 0.6894\n",
            "Epoch 25/30\n",
            "474/474 [==============================] - 796s 2s/step - loss: 0.1253 - accuracy: 0.9603 - val_loss: 2.4668 - val_accuracy: 0.6724\n",
            "Epoch 26/30\n",
            "474/474 [==============================] - 793s 2s/step - loss: 0.1264 - accuracy: 0.9602 - val_loss: 2.6865 - val_accuracy: 0.6659\n",
            "Epoch 27/30\n",
            "474/474 [==============================] - 847s 2s/step - loss: 0.1234 - accuracy: 0.9630 - val_loss: 2.2975 - val_accuracy: 0.6661\n",
            "Epoch 28/30\n",
            "474/474 [==============================] - 845s 2s/step - loss: 0.1226 - accuracy: 0.9643 - val_loss: 2.3762 - val_accuracy: 0.6658\n",
            "Epoch 29/30\n",
            "474/474 [==============================] - 792s 2s/step - loss: 0.1226 - accuracy: 0.9632 - val_loss: 2.1528 - val_accuracy: 0.6757\n",
            "Epoch 30/30\n",
            "474/474 [==============================] - 793s 2s/step - loss: 0.1155 - accuracy: 0.9640 - val_loss: 2.1698 - val_accuracy: 0.6792\n"
          ]
        },
        {
          "output_type": "execute_result",
          "data": {
            "text/plain": [
              "<keras.callbacks.History at 0x7f90ac055f40>"
            ]
          },
          "metadata": {},
          "execution_count": 115
        }
      ]
    },
    {
      "cell_type": "code",
      "source": [
        "model_json = classifier.to_json()\n",
        "with open(\"model_idraak.json\", \"w\") as json_file:\n",
        "    json_file.write(model_json)\n",
        "print('Model Has Been Saved')\n",
        "classifier.save_weights('model_idraak.h5')\n",
        "print('Weights Have Been Saved')"
      ],
      "metadata": {
        "id": "gL5KoFgQ1Ngz",
        "colab": {
          "base_uri": "https://localhost:8080/"
        },
        "outputId": "7d8fc7b4-5be9-4d8a-8eb7-3c8624602bc8"
      },
      "execution_count": 116,
      "outputs": [
        {
          "output_type": "stream",
          "name": "stdout",
          "text": [
            "Model Has Been Saved\n",
            "Weights Have Been Saved\n"
          ]
        }
      ]
    }
  ]
}